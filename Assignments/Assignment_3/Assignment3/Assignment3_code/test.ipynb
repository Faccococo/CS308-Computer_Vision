{
 "cells": [
  {
   "cell_type": "code",
   "execution_count": null,
   "metadata": {},
   "outputs": [],
   "source": []
  },
  {
   "cell_type": "code",
   "execution_count": null,
   "metadata": {},
   "outputs": [],
   "source": []
  },
  {
   "cell_type": "code",
   "execution_count": null,
   "metadata": {},
   "outputs": [],
   "source": [
    "import cv2\n",
    "import numpy as np\n",
    "def im2single(im):\n",
    "    im = im.astype(np.float32) / 255\n",
    "    return im\n",
    "image = cv2.imread(\"data/train/Bedroom/image_0001.jpg\")\n",
    "frame = image\n",
    "image_size = 16\n",
    "image = cv2.resize(image, (image_size, image_size))\n",
    "\n",
    "# image = image.flatten()\n",
    "cv2.imshow(\"origin\", frame)\n",
    "cv2.imshow(\"low\", cv2.resize(image, (640, 480)))\n",
    "image = (image - np.mean(image)) / np.std(image)\n",
    "cv2.imshow(\"nor\", cv2.resize(image, (640, 480)))\n",
    "cv2.waitKey(0)\n",
    "cv2.destroyAllWindows()"
   ]
  }
 ],
 "metadata": {
  "kernelspec": {
   "display_name": "Python 3.6.12 ('CS308')",
   "language": "python",
   "name": "python3"
  },
  "language_info": {
   "codemirror_mode": {
    "name": "ipython",
    "version": 3
   },
   "file_extension": ".py",
   "mimetype": "text/x-python",
   "name": "python",
   "nbconvert_exporter": "python",
   "pygments_lexer": "ipython3",
   "version": "3.6.2"
  },
  "orig_nbformat": 4,
  "vscode": {
   "interpreter": {
    "hash": "74060b4b21c5725e6635645795d8705016fa42c05769a793d233df247908138b"
   }
  }
 },
 "nbformat": 4,
 "nbformat_minor": 2
}
